{
 "cells": [
  {
   "cell_type": "markdown",
   "metadata": {},
   "source": [
    "# Wo ist die ISS im Moment?\n",
    "In diesem Notebook bestimmen wir die Position der ISS für den aktuellen Moment und zeichnen die Koordinaten in eine Karte ein. Wir brauchen dazu etwas Pythoncode der für uns die nötigen Daten lädt und uns bei Umrechnungen hilft.\n",
    "Den vorbereiteten Code müssen wir erst laden. Ich habe den Code in einer Datei mit dem Namen `iss.py` abgespeichert.\n",
    "In der ersten Zeile im Code-Block unten, wird diese Datei geladen. Es gibt zwei Befehle die wir benutzen können:\n",
    "- `getiss()` lädt die Daten von der Seite http://api.open-notify.org/iss-now.json herunter und liefert uns die Koordinaten und den Zeitstempel.\n",
    "- `great_circle` berechnet aus zwei Koordinatenpaaren die kürzeste Strecke zwischen diesen Punkten. Dies aber auf der Höhe von 408km , der Flughöhe der ISS.\n",
    "\n",
    "Der Rest des Codes unten zeichnet die Karte und markiert die Mitte mit einem roten Kreis. "
   ]
  },
  {
   "cell_type": "code",
   "execution_count": 1,
   "metadata": {},
   "outputs": [
    {
     "name": "stdout",
     "output_type": "stream",
     "text": [
      "[-43.9671, 140.0229] 1603716805\n"
     ]
    },
    {
     "data": {
      "application/vnd.jupyter.widget-view+json": {
       "model_id": "5da65a658967436588e65a890253490c",
       "version_major": 2,
       "version_minor": 0
      },
      "text/plain": [
       "Map(center=[-43.9671, 140.0229], controls=(ZoomControl(options=['position', 'zoom_in_text', 'zoom_in_title', '…"
      ]
     },
     "metadata": {},
     "output_type": "display_data"
    }
   ],
   "source": [
    "# laden der Befehle\n",
    "from iss import *\n",
    "\n",
    "\n",
    "koordinaten = getiss()\n",
    "timestamp = koordinaten[2]\n",
    "print(koordinaten[:2], timestamp)\n",
    "m=Map(center=koordinaten[:2], zoom=4)\n",
    "circle = Circle()\n",
    "circle.location = (koordinaten[0],koordinaten[1])\n",
    "circle.radius = 50000\n",
    "circle.color = \"red\"\n",
    "circle.fill_color = \"red\"\n",
    "m.add_layer(circle)\n",
    "m"
   ]
  },
  {
   "cell_type": "markdown",
   "metadata": {},
   "source": [
    "## Berechnung der Geschwindigkeit\n",
    "Um die Geschwindigkeit der ISS bestimmen zu können, brauchen wir die zurückgelegte Strecke über ein Zeitintervall. \n",
    "\n",
    "$$\\frac{\\Delta S}{\\Delta t} = \\frac{\\text{Strecke zwischen } c_2 \\text{ und } c_1}{t_2 - t_1} $$\n",
    "\n",
    "Da wir aber Koordinaten auf der Erde haben müssen wir die Koordinaten in eine Strecke umrechnen. Dies geschieht mit der Prozedur `great_cricle`.\n",
    "![alt text](./grosskreis.png \"Grosskreis\")\n",
    "\n",
    "$$Abstand = (6378 + Höhe) * (\\arccos(\\sin(lat_1) \\cdot \\sin(lat_2) + \\cos(lat_1) \\cdot \\cos(lat_2) \\cdot \\cos(lon_1 - lon_2)))$$\n",
    "\n",
    "Dabei ist 408 die Flughöhe der ISS in Kilometer"
   ]
  },
  {
   "cell_type": "code",
   "execution_count": 9,
   "metadata": {},
   "outputs": [
    {
     "name": "stdout",
     "output_type": "stream",
     "text": [
      "[-35.8793, 177.5709]\n",
      "Now Waiting ... 5  Seconds.\n",
      "5 , 4 , 3 , 2 , 1 , \n",
      "[-35.5043, 178.0802]\n",
      "7.347336006374239 km/s\n"
     ]
    }
   ],
   "source": [
    "delta_t = 5 # Zeit zwischen den Messungen (Sekunden)\n",
    "\n",
    "data1 = getiss()\n",
    "coord1 = data1[:2]\n",
    "time1 = data1[2]\n",
    "print(coord1)\n",
    "print(\"Now Waiting ...\",delta_t,\" Seconds.\")\n",
    "for i in range(delta_t):\n",
    "    print(delta_t-i,\", \",end=\"\")\n",
    "    time.sleep(1)\n",
    "print(\"\")\n",
    "data2 = getiss()\n",
    "coord2 =data2[:2]\n",
    "time2 = data2[2]\n",
    "print(coord2)\n",
    "\n",
    "speed = great_circle(coord1, coord2)/(time2-time1)\n",
    "print(speed, \"km/s\")"
   ]
  },
  {
   "cell_type": "code",
   "execution_count": 2,
   "metadata": {},
   "outputs": [
    {
     "name": "stdout",
     "output_type": "stream",
     "text": [
      "0 [-43.1848, 141.7194, 1603716828]\n",
      "1 [-40.9194, 146.1085, 1603716892]\n",
      "2 [-38.4789, 150.1778, 1603716956]\n",
      "3 [-35.9092, 153.9267, 1603717020]\n",
      "4 [-33.1925, 157.4435, 1603717084]\n",
      "5 [-30.3676, 160.7284, 1603717148]\n",
      "6 [-27.4743, 163.7878, 1603717212]\n",
      "7 [-24.4818, 166.6972, 1603717276]\n",
      "8 [-21.4256, 169.4576, 1603717340]\n",
      "9 [-18.3408, 172.0729, 1603717404]\n"
     ]
    },
    {
     "data": {
      "application/vnd.jupyter.widget-view+json": {
       "model_id": "0b2e20917bb9442b812828097dcb6f25",
       "version_major": 2,
       "version_minor": 0
      },
      "text/plain": [
       "Map(center=[-43.3199, 141.4339], controls=(ZoomControl(options=['position', 'zoom_in_text', 'zoom_in_title', '…"
      ]
     },
     "metadata": {},
     "output_type": "display_data"
    }
   ],
   "source": [
    "\n",
    "koordinaten = getiss()[:2]\n",
    "m=Map(center=koordinaten, zoom=5)\n",
    "for i in range(10):\n",
    "    koordinaten = getiss()\n",
    "    print(i,koordinaten)\n",
    "    circle = Circle()\n",
    "    circle.location = (koordinaten[0],koordinaten[1])\n",
    "    circle.radius = 500\n",
    "    circle.color = \"green\"\n",
    "    circle.fill_color = \"green\"\n",
    "    m.add_layer(circle)\n",
    "    time.sleep(60)\n",
    "m"
   ]
  },
  {
   "cell_type": "markdown",
   "metadata": {},
   "source": [
    "## Abstand zwischen zwei Orten\n",
    "Öffnen Sie Google-Maps und suchen sie sich die Koordinaten der folgenden Städten heraus. \n",
    "1. Stadt eingeben, Rechtsklick auf einen Ort in der Stadt (Stadtmitte) und dort \"Was ist hier?\" anwählen.\n",
    "2. Koordinaten in dem Popup-Fenster auswählen.\n",
    "3. Koordinaten kopieren \n",
    "4. Die Daten wie im Beispiel unter einem Namen (ein Wort) speichern.\n",
    "\n",
    "``` python\n",
    "zuerich = [47.364620, 8.527582]\n",
    "bern = [46.948094, 7.448113]\n",
    "abstand = great_circle(zuerich,bern)\n",
    "print(abstand)\n",
    "```"
   ]
  },
  {
   "cell_type": "code",
   "execution_count": 5,
   "metadata": {},
   "outputs": [
    {
     "name": "stdout",
     "output_type": "stream",
     "text": [
      "99.95832814277165\n"
     ]
    }
   ],
   "source": [
    "zuerich = [47.364620, 8.527582]\n",
    "bern = [46.948094, 7.448113]\n",
    "abstand = great_circle(zuerich,bern)\n",
    "print(abstand)"
   ]
  },
  {
   "cell_type": "markdown",
   "metadata": {},
   "source": [
    "### Liste der Orte\n",
    "Erstelle hier eine Liste von 5 Orten ausserhalb der Schweiz zu welchen Du den Abstand bestimmen möchtest.\n",
    "\n",
    "| Ort | Koordinaten  | Abstand  |\n",
    "|---|:-:|:-:|\n",
    "| Everest  | [27.988065, 86.924943]  | 7373  | \n",
    "|   |   |   |\n",
    "\n",
    "> die Zuordnung Ort = [,] muss in einem Codefenster gemacht werden."
   ]
  },
  {
   "cell_type": "code",
   "execution_count": 3,
   "metadata": {},
   "outputs": [],
   "source": [
    "# hier alle Orte mit koordinaten auflisten\n",
    "everest = [27.988065, 86.924943]"
   ]
  },
  {
   "cell_type": "code",
   "execution_count": 6,
   "metadata": {},
   "outputs": [
    {
     "name": "stdout",
     "output_type": "stream",
     "text": [
      "7373.343878852122\n"
     ]
    }
   ],
   "source": [
    "\n",
    "abstand = great_circle(zuerich, everest)\n",
    "print(abstand)"
   ]
  },
  {
   "cell_type": "code",
   "execution_count": null,
   "metadata": {},
   "outputs": [],
   "source": []
  }
 ],
 "metadata": {
  "kernelspec": {
   "display_name": "Python 3",
   "language": "python",
   "name": "python3"
  },
  "language_info": {
   "codemirror_mode": {
    "name": "ipython",
    "version": 3
   },
   "file_extension": ".py",
   "mimetype": "text/x-python",
   "name": "python",
   "nbconvert_exporter": "python",
   "pygments_lexer": "ipython3",
   "version": "3.7.4"
  }
 },
 "nbformat": 4,
 "nbformat_minor": 2
}
