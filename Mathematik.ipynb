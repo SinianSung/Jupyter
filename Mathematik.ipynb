{
 "cells": [
  {
   "cell_type": "markdown",
   "metadata": {},
   "source": []
  },
  {
   "cell_type": "code",
   "execution_count": 1,
   "metadata": {},
   "outputs": [
    {
     "data": {
      "text/plain": [
       "['e', 'h', 'l', 'p']"
      ]
     },
     "execution_count": 1,
     "metadata": {},
     "output_type": "execute_result"
    }
   ],
   "source": [
    "import heron\n",
    "\n",
    "dir(heron)"
   ]
  },
  {
   "cell_type": "markdown",
   "metadata": {},
   "source": [
    "# Das Heronverfahren\n",
    "\n",
    "Ausgehend von einem beliebigen Rechteck mit der Fläche a, und einer Seite x1 werden  mit  einem  rekursiven Verfahren weitere Schätzwerte für die Wurzel bestimmt. Da eine Rechteckseite eines flächengleichen Rechteckes sicher kleiner als die Quadratseite ist, und die andere Seite sicherlich grösser als die gesuchte Quadratseite ist, wird  als Schätzwert der Mittelwert der beiden Rechtecksseiten benutzt.\n",
    "\n",
    "\n",
    "$$ x_{n+1} = \\frac{1}{2} \\cdot \\left( x_n + \\frac{a}{x_n}\\right) $$\n",
    "\n",
    "\n",
    "![alt text](./heron.jpg \"Heronverfahren\")\n",
    "\n",
    "Dabei ist $x_1$ der Startwert unserer Berechnung und $a$ der benutzte Radikanden. Berechnen wollen wir $\\sqrt{a}$.\n",
    "\n",
    "## Der Algorithmus\n",
    "    1. Bestimme einen positiven Startwert. \n",
    "    2. Bestimme die zweite Rechtecksseite für ein Rechteck mit der Fläche a und der Seitenlänge aus dem letzten Schritt.\n",
    "    3. Bestimme den Durchschnitt der beiden Seitenlängen.\n",
    "    4. Benutze den Durchschnitt als neuen Startwert und mache in Schritt 2 weiter."
   ]
  },
  {
   "cell_type": "code",
   "execution_count": 2,
   "metadata": {},
   "outputs": [
    {
     "data": {
      "text/plain": [
       "3.659090909090909"
      ]
     },
     "execution_count": 2,
     "metadata": {},
     "output_type": "execute_result"
    }
   ],
   "source": [
    "heronschritt(5.5, 10)"
   ]
  },
  {
   "cell_type": "markdown",
   "metadata": {},
   "source": [
    "<a href=\"https://www.youtube.com/watch?v=-wEJzyHB5us\n",
    "\" target=\"_blank\"><img src=\"./heron_video.png\" \n",
    "alt=\"IMAGE ALT TEXT HERE\" width=\"240\" height=\"180\" border=\"10\" /></a>"
   ]
  },
  {
   "cell_type": "markdown",
   "metadata": {},
   "source": [
    "## Aufgabe\n",
    "Der folgende Code berechnet die ersten paar Schritte im Heron-Verfahren. Im ersten Code-Block kann man die Werte für die Berechnung einstellen."
   ]
  },
  {
   "cell_type": "code",
   "execution_count": 15,
   "metadata": {},
   "outputs": [],
   "source": [
    "radikand = 36\n",
    "startwert = 7\n",
    "anzahl_wiederholungen = 10\n"
   ]
  },
  {
   "cell_type": "markdown",
   "metadata": {
    "variables": {
     " anzahl_wiederholungen ": "10",
     " radikand ": "36"
    }
   },
   "source": [
    "Es wird nun Schrittweise der Radikand der Zahl {{ radikand }} in {{ anzahl_wiederholungen }} Schritten berechnet."
   ]
  },
  {
   "cell_type": "code",
   "execution_count": 16,
   "metadata": {},
   "outputs": [
    {
     "name": "stdout",
     "output_type": "stream",
     "text": [
      "6.07142857142857117480616579996421933174133300781250\n",
      "6.00042016806722688926356568117626011371612548828125\n",
      "6.00000001471073751702078880043700337409973144531250\n",
      "6.00000000000000000000000000000000000000000000000000\n",
      "6.00000000000000000000000000000000000000000000000000\n",
      "6.00000000000000000000000000000000000000000000000000\n",
      "6.00000000000000000000000000000000000000000000000000\n",
      "6.00000000000000000000000000000000000000000000000000\n",
      "6.00000000000000000000000000000000000000000000000000\n",
      "6.00000000000000000000000000000000000000000000000000\n"
     ]
    }
   ],
   "source": [
    "wert = startwert\n",
    "for i in range(anzahl_wiederholungen):\n",
    "    wert = heronschritt(wert, radikand)\n",
    "    print('%8.50f'% wert)"
   ]
  },
  {
   "cell_type": "markdown",
   "metadata": {},
   "source": [
    "Probieren sie mit verschiedenen Radikanden und verschiedenen Startwerten wie schnell die Anzahl korrekter Kommastellen besser wird."
   ]
  },
  {
   "cell_type": "code",
   "execution_count": 5,
   "metadata": {},
   "outputs": [
    {
     "data": {
      "image/png": "[encoded data removed]",
      "text/plain": [
       "<Figure size 432x288 with 1 Axes>"
      ]
     },
     "metadata": {
      "needs_background": "light"
     },
     "output_type": "display_data"
    }
   ],
   "source": [
    "folge = []\n",
    "wert = startwert\n",
    "\n",
    "for i in range(anzahl_wiederholungen):\n",
    "    folge.append(wert)\n",
    "    wert = heronschritt(wert, radikand)\n",
    "    \n",
    "# Ausgabe der Daten als Graphik\n",
    "index = range(1,len(folge)+1)\n",
    "plt.plot(index,folge,'ro')\n",
    "plt.axis([0,10,1,10])\n",
    "plt.show()"
   ]
  },
  {
   "cell_type": "code",
   "execution_count": 17,
   "metadata": {},
   "outputs": [
    {
     "name": "stdout",
     "output_type": "stream",
     "text": [
      "In 4 Schritten hat man den Wert 6.0 erreicht. (Genauigkeit = 1e-20)\n"
     ]
    }
   ],
   "source": [
    "heronverfahren(7,36,20)\n"
   ]
  },
  {
   "cell_type": "markdown",
   "metadata": {
    "variables": {
     " radikand ": "36"
    }
   },
   "source": [
    "{{ radikand }}"
   ]
  },
  {
   "cell_type": "code",
   "execution_count": null,
   "metadata": {},
   "outputs": [],
   "source": []
  }
 ],
 "metadata": {
  "kernelspec": {
   "display_name": "Python 3",
   "language": "python",
   "name": "python3"
  },
  "language_info": {
   "codemirror_mode": {
    "name": "ipython",
    "version": 3
   },
   "file_extension": ".py",
   "mimetype": "text/x-python",
   "name": "python",
   "nbconvert_exporter": "python",
   "pygments_lexer": "ipython3",
   "version": "3.7.4"
  }
 },
 "nbformat": 4,
 "nbformat_minor": 4
}
